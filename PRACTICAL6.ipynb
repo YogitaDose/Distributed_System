{
 "cells": [
  {
   "cell_type": "code",
   "execution_count": 8,
   "id": "ab2b5a71",
   "metadata": {},
   "outputs": [
    {
     "name": "stdout",
     "output_type": "stream",
     "text": [
      "\n",
      "Process 2 has detected failure and starts an election.\n",
      "Process 2 sends election to [3, 5]\n",
      "Process 3 responds to election.\n",
      "Process 5 responds to election.\n",
      "\n",
      "Process 5 has detected failure and starts an election.\n",
      "Process 5 becomes the leader (no higher active process).\n",
      "\n",
      " Elected Leader (Bully): Process 5\n"
     ]
    }
   ],
   "source": [
    "class BullyProcess:\n",
    "    def __init__(self, pid, active=True):\n",
    "        self.pid = pid\n",
    "        self.active = active\n",
    "\n",
    "def bully_algorithm(processes, initiator_pid):\n",
    "    print(f\"\\nProcess {initiator_pid} has detected failure and starts an election.\")\n",
    "\n",
    "    # Find the initiator process\n",
    "    initiator = next(p for p in processes if p.pid == initiator_pid)\n",
    "    \n",
    "    # Find all processes with higher PIDs that are active\n",
    "    higher_processes = [p for p in processes if p.pid > initiator_pid and p.active]\n",
    "\n",
    "    if not higher_processes:\n",
    "        # If there are no higher processes, the initiator becomes the leader\n",
    "        print(f\"Process {initiator_pid} becomes the leader (no higher active process).\")\n",
    "        return initiator_pid\n",
    "    else:\n",
    "        # The initiator sends an election to the higher PID processes\n",
    "        print(f\"Process {initiator_pid} sends election to {[p.pid for p in higher_processes]}\")\n",
    "        \n",
    "        # For each higher process, they respond to the election\n",
    "        for p in higher_processes:\n",
    "            print(f\"Process {p.pid} responds to election.\")\n",
    "\n",
    "        # The process with the highest PID among the higher processes becomes the new leader\n",
    "        new_leader = max(higher_processes, key=lambda p: p.pid)\n",
    "        \n",
    "        # Start the election again, this time from the new leader\n",
    "        return bully_algorithm(processes, new_leader.pid)\n",
    "\n",
    "\n",
    "# 🧪 Example:\n",
    "processes = [\n",
    "    BullyProcess(1),\n",
    "    BullyProcess(2),\n",
    "    BullyProcess(3),\n",
    "    BullyProcess(4, active=False),  # Dead process\n",
    "    BullyProcess(5),\n",
    "]\n",
    "\n",
    "# Initiator process starts the election (Process 2 here)\n",
    "leader = bully_algorithm(processes, initiator_pid=2)\n",
    "print(f\"\\n Elected Leader (Bully): Process {leader}\")\n"
   ]
  },
  {
   "cell_type": "code",
   "execution_count": 10,
   "id": "dcc70462",
   "metadata": {},
   "outputs": [
    {
     "name": "stdout",
     "output_type": "stream",
     "text": [
      "\n",
      "Process 2 starts the election (Ring Algorithm).\n",
      "Process 2 adds its ID to election message.\n",
      "Process 3 adds its ID to election message.\n",
      "Process 5 adds its ID to election message.\n",
      "Process 1 adds its ID to election message.\n",
      "\n",
      "Process 2 selects Process 5 as the new leader.\n",
      "\n",
      "🏆 Elected Leader (Ring): Process 5\n"
     ]
    }
   ],
   "source": [
    "class RingProcess:\n",
    "    def __init__(self, pid, active=True):\n",
    "        self.pid = pid\n",
    "        self.active = active\n",
    "\n",
    "def ring_algorithm(processes, initiator_pid):\n",
    "    print(f\"\\nProcess {initiator_pid} starts the election (Ring Algorithm).\")\n",
    "\n",
    "    n = len(processes)\n",
    "    ids_in_ring = []\n",
    "    index = next(i for i, p in enumerate(processes) if p.pid == initiator_pid)\n",
    "\n",
    "    # Start passing message around the ring\n",
    "    for i in range(n):\n",
    "        idx = (index + i) % n\n",
    "        if processes[idx].active:\n",
    "            ids_in_ring.append(processes[idx].pid)\n",
    "            print(f\"Process {processes[idx].pid} adds its ID to election message.\")\n",
    "\n",
    "    leader = max(ids_in_ring)\n",
    "    print(f\"\\nProcess {initiator_pid} selects Process {leader} as the new leader.\")\n",
    "    return leader\n",
    "\n",
    "\n",
    "# 🧪 Example:\n",
    "ring_processes = [\n",
    "    RingProcess(1),\n",
    "    RingProcess(2),\n",
    "    RingProcess(3),\n",
    "    RingProcess(4, active=False),  # Dead\n",
    "    RingProcess(5),\n",
    "]\n",
    "\n",
    "leader = ring_algorithm(ring_processes, initiator_pid=2)\n",
    "print(f\"\\n🏆 Elected Leader (Ring): Process {leader}\")\n"
   ]
  },
  {
   "cell_type": "code",
   "execution_count": null,
   "id": "6d00c99b",
   "metadata": {},
   "outputs": [],
   "source": []
  }
 ],
 "metadata": {
  "kernelspec": {
   "display_name": "Python 3 (ipykernel)",
   "language": "python",
   "name": "python3"
  },
  "language_info": {
   "codemirror_mode": {
    "name": "ipython",
    "version": 3
   },
   "file_extension": ".py",
   "mimetype": "text/x-python",
   "name": "python",
   "nbconvert_exporter": "python",
   "pygments_lexer": "ipython3",
   "version": "3.11.4"
  }
 },
 "nbformat": 4,
 "nbformat_minor": 5
}
