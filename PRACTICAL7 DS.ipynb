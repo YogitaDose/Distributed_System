{
 "cells": [
  {
   "cell_type": "code",
   "execution_count": 4,
   "id": "d9c6c509",
   "metadata": {},
   "outputs": [
    {
     "name": "stdout",
     "output_type": "stream",
     "text": [
      " * Serving Flask app '__main__'\n",
      " * Debug mode: off\n"
     ]
    },
    {
     "name": "stderr",
     "output_type": "stream",
     "text": [
      "WARNING: This is a development server. Do not use it in a production deployment. Use a production WSGI server instead.\n",
      " * Running on http://127.0.0.1:5000\n",
      "Press CTRL+C to quit\n",
      "127.0.0.1 - - [08/May/2025 23:14:09] \"GET /square?number=1 HTTP/1.1\" 200 -\n",
      "127.0.0.1 - - [08/May/2025 23:14:09] \"GET /square?number=2 HTTP/1.1\" 200 -\n",
      "127.0.0.1 - - [08/May/2025 23:14:09] \"GET /square?number=3 HTTP/1.1\" 200 -\n",
      "127.0.0.1 - - [08/May/2025 23:14:09] \"GET /square?number=4 HTTP/1.1\" 200 -\n",
      "127.0.0.1 - - [08/May/2025 23:14:09] \"GET /square?number=5 HTTP/1.1\" 200 -\n"
     ]
    },
    {
     "name": "stdout",
     "output_type": "stream",
     "text": [
      "The square of 1 is 1.0\n",
      "The square of 2 is 4.0\n",
      "The square of 3 is 9.0\n",
      "The square of 4 is 16.0\n",
      "The square of 5 is 25.0\n"
     ]
    },
    {
     "name": "stderr",
     "output_type": "stream",
     "text": [
      "127.0.0.1 - - [08/May/2025 23:14:09] \"GET /square?number=5 HTTP/1.1\" 200 -\n",
      "127.0.0.1 - - [08/May/2025 23:14:09] \"GET /favicon.ico HTTP/1.1\" 404 -\n"
     ]
    }
   ],
   "source": [
    "import time\n",
    "import webbrowser\n",
    "from flask import Flask, request, jsonify\n",
    "from threading import Thread\n",
    "import nest_asyncio\n",
    "import aiohttp\n",
    "import asyncio\n",
    "\n",
    "# Apply asyncio compatibility for the Flask app\n",
    "nest_asyncio.apply()\n",
    "\n",
    "# Flask application\n",
    "app = Flask(__name__)\n",
    "\n",
    "@app.route('/square', methods=['GET'])\n",
    "def square():\n",
    "    \"\"\"Endpoint that calculates the square of a given number\"\"\"\n",
    "    try:\n",
    "        number = float(request.args.get('number'))\n",
    "        result = number ** 2\n",
    "        return jsonify({'result': result})\n",
    "    except Exception as e:\n",
    "        return jsonify({'error': str(e)}), 400\n",
    "\n",
    "def run_app():\n",
    "    \"\"\"Run Flask app on port 5000\"\"\"\n",
    "    app.run(port=5000, debug=False, use_reloader=False)\n",
    "\n",
    "def start_flask_app():\n",
    "    \"\"\"Run Flask app in a separate thread\"\"\"\n",
    "    thread = Thread(target=run_app)\n",
    "    thread.start()\n",
    "\n",
    "async def get_square(number: float):\n",
    "    \"\"\"Async function to call the /square endpoint and get the result\"\"\"\n",
    "    url = f'http://127.0.0.1:5000/square?number={number}'\n",
    "    async with aiohttp.ClientSession() as session:\n",
    "        async with session.get(url) as response:\n",
    "            if response.status == 200:\n",
    "                data = await response.json()\n",
    "                return data.get('result')\n",
    "            else:\n",
    "                return f\"Error: {response.status}\"\n",
    "\n",
    "async def main():\n",
    "    \"\"\"Main entry point to consume the Flask service asynchronously\"\"\"\n",
    "    numbers = [1, 2, 3, 4, 5]\n",
    "    tasks = []\n",
    "\n",
    "    # Create async tasks to call the web service for each number\n",
    "    for number in numbers:\n",
    "        tasks.append(get_square(number))\n",
    "\n",
    "    # Await all tasks concurrently\n",
    "    results = await asyncio.gather(*tasks)\n",
    "\n",
    "    # Print the results\n",
    "    for num, result in zip(numbers, results):\n",
    "        print(f\"The square of {num} is {result}\")\n",
    "\n",
    "# Run Flask app in a separate thread\n",
    "start_flask_app()\n",
    "\n",
    "# Wait for Flask server to be ready before opening the browser\n",
    "time.sleep(1)  # Adjust time based on the server load\n",
    "\n",
    "# Automatically open the web browser to the /square endpoint\n",
    "webbrowser.open(\"http://127.0.0.1:5000/square?number=5\")\n",
    "\n",
    "# Run the distributed application asynchronously\n",
    "if __name__ == \"__main__\":\n",
    "    asyncio.run(main())"
   ]
  },
  {
   "cell_type": "code",
   "execution_count": null,
   "id": "d8c01a37",
   "metadata": {},
   "outputs": [],
   "source": []
  }
 ],
 "metadata": {
  "kernelspec": {
   "display_name": "Python 3 (ipykernel)",
   "language": "python",
   "name": "python3"
  },
  "language_info": {
   "codemirror_mode": {
    "name": "ipython",
    "version": 3
   },
   "file_extension": ".py",
   "mimetype": "text/x-python",
   "name": "python",
   "nbconvert_exporter": "python",
   "pygments_lexer": "ipython3",
   "version": "3.11.4"
  }
 },
 "nbformat": 4,
 "nbformat_minor": 5
}
