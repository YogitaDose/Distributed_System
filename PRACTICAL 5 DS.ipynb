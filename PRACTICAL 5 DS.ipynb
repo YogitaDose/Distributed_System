{
 "cells": [
  {
   "cell_type": "code",
   "execution_count": null,
   "id": "c34abe1c",
   "metadata": {},
   "outputs": [
    {
     "name": "stdout",
     "output_type": "stream",
     "text": [
      "Enter number of nodes in the ring: 5\n",
      "\n",
      "Ring Formed:\n",
      "0 -> 1 -> 2 -> 3 -> 4 -> 0 (back to start)\n",
      "Token starts at Node 0\n",
      "\n",
      "Enter sender node number: 4\n",
      "Enter receiver node number: 1\n",
      "Enter data to send: 44\n",
      "Token passed: 0 -> 1 -> 2 -> 3 -> 4\n",
      "Data sent: 4 -> 0 -> 1\n",
      "Receiver 1 received data: 44\n"
     ]
    }
   ],
   "source": [
    "def fast_token_ring():\n",
    "    # Step 1: Get number of nodes\n",
    "    n = int(input(\"Enter number of nodes in the ring: \"))\n",
    "\n",
    "    print(\"\\nRing Formed:\")\n",
    "    for i in range(n):\n",
    "        print(i, end=\" -> \")\n",
    "    print(\"0 (back to start)\")\n",
    "\n",
    "    # Step 2: Token is at Node 0\n",
    "    token = 0\n",
    "    print(\"Token starts at Node 0\")\n",
    "\n",
    "    while True:\n",
    "        # Step 3: Get sender, receiver, and data\n",
    "        sender = int(input(\"\\nEnter sender node number: \"))\n",
    "        receiver = int(input(\"Enter receiver node number: \"))\n",
    "        data = input(\"Enter data to send: \")\n",
    "\n",
    "        # Step 4: Show token path (fast)\n",
    "        path = []\n",
    "        i = token\n",
    "        while i != sender:\n",
    "            path.append(str(i))\n",
    "            i = (i + 1) % n\n",
    "        path.append(str(sender))\n",
    "        print(f\"Token passed: {' -> '.join(path)}\")\n",
    "\n",
    "        # Step 5: Show data path (fast)\n",
    "        path = []\n",
    "        i = sender\n",
    "        while i != receiver:\n",
    "            path.append(str(i))\n",
    "            i = (i + 1) % n\n",
    "        path.append(str(receiver))\n",
    "        print(f\"Data sent: {' -> '.join(path)}\")\n",
    "\n",
    "        # Step 6: Show final result\n",
    "        print(f\"Receiver {receiver} received data: {data}\")\n",
    "\n",
    "        # Step 7: Update token\n",
    "        token = sender\n",
    "\n",
    "        # Step 8: Continue?\n",
    "        again = input(\"\\nSend again? (yes/no): \").lower()\n",
    "        if again != \"yes\":\n",
    "            print(\"Simulation ended.\")\n",
    "            break\n",
    "\n",
    "# Run it\n",
    "fast_token_ring()\n"
   ]
  },
  {
   "cell_type": "code",
   "execution_count": null,
   "id": "b9f79a83",
   "metadata": {},
   "outputs": [],
   "source": []
  }
 ],
 "metadata": {
  "kernelspec": {
   "display_name": "Python 3 (ipykernel)",
   "language": "python",
   "name": "python3"
  },
  "language_info": {
   "codemirror_mode": {
    "name": "ipython",
    "version": 3
   },
   "file_extension": ".py",
   "mimetype": "text/x-python",
   "name": "python",
   "nbconvert_exporter": "python",
   "pygments_lexer": "ipython3",
   "version": "3.11.4"
  }
 },
 "nbformat": 4,
 "nbformat_minor": 5
}
