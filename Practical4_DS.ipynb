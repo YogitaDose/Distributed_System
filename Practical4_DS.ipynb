{
 "cells": [
  {
   "cell_type": "code",
   "execution_count": 1,
   "id": "7a61ac50",
   "metadata": {},
   "outputs": [
    {
     "name": "stdout",
     "output_type": "stream",
     "text": [
      "Original Clock Times:\n",
      "Master: 100.0 seconds\n",
      "Node1: 102.0 seconds\n",
      "Node2: 97.0 seconds\n",
      "Node3: 105.0 seconds\n"
     ]
    }
   ],
   "source": [
    "# Simulated system clocks (in seconds) for each node\n",
    "# Format: node_id: time\n",
    "clocks = {\n",
    "    \"Master\": 100.0,\n",
    "    \"Node1\": 102.0,\n",
    "    \"Node2\": 97.0,\n",
    "    \"Node3\": 105.0\n",
    "}\n",
    "\n",
    "print(\"Original Clock Times:\")\n",
    "for node, time in clocks.items():\n",
    "    print(f\"{node}: {time} seconds\")\n"
   ]
  },
  {
   "cell_type": "code",
   "execution_count": 3,
   "id": "2208740e",
   "metadata": {},
   "outputs": [],
   "source": [
    "def berkeley_synchronization(clocks):\n",
    "    master = \"Master\"\n",
    "    master_time = clocks[master]\n",
    "    \n",
    "    time_diffs = {}\n",
    "    \n",
    "    # Step 1: Master collects time differences\n",
    "    for node in clocks:\n",
    "        if node != master:\n",
    "            time_diffs[node] = clocks[node] - master_time  # difference from master\n",
    "\n",
    "    print(\"\\nTime Differences from Master:\")\n",
    "    for node, diff in time_diffs.items():\n",
    "        print(f\"{node}: {diff} seconds\")\n",
    "\n",
    "    # Step 2: Calculate average time difference\n",
    "    total_diff = sum(time_diffs.values())\n",
    "    average_diff = total_diff / len(time_diffs)\n",
    "\n",
    "    print(f\"\\nAverage Time Difference: {average_diff:.2f} seconds\")\n",
    "\n",
    "    # Step 3: Adjust all clocks (including master)\n",
    "    adjusted_clocks = {}\n",
    "    for node in clocks:\n",
    "        if node == master:\n",
    "            adjusted_clocks[node] = clocks[node] + average_diff\n",
    "        else:\n",
    "            adjustment = average_diff - time_diffs[node]\n",
    "            adjusted_clocks[node] = clocks[node] + adjustment\n",
    "    \n",
    "    return adjusted_clocks\n"
   ]
  },
  {
   "cell_type": "code",
   "execution_count": 4,
   "id": "df21ba97",
   "metadata": {},
   "outputs": [
    {
     "name": "stdout",
     "output_type": "stream",
     "text": [
      "\n",
      "Time Differences from Master:\n",
      "Node1: 2.0 seconds\n",
      "Node2: -3.0 seconds\n",
      "Node3: 5.0 seconds\n",
      "\n",
      "Average Time Difference: 1.33 seconds\n",
      "\n",
      "Adjusted Clock Times:\n",
      "Master: 101.33 seconds\n",
      "Node1: 101.33 seconds\n",
      "Node2: 101.33 seconds\n",
      "Node3: 101.33 seconds\n"
     ]
    }
   ],
   "source": [
    "adjusted_clocks = berkeley_synchronization(clocks)\n",
    "\n",
    "print(\"\\nAdjusted Clock Times:\")\n",
    "for node, time in adjusted_clocks.items():\n",
    "    print(f\"{node}: {time:.2f} seconds\")\n"
   ]
  },
  {
   "cell_type": "code",
   "execution_count": null,
   "id": "245bcec7",
   "metadata": {},
   "outputs": [],
   "source": []
  }
 ],
 "metadata": {
  "kernelspec": {
   "display_name": "Python 3 (ipykernel)",
   "language": "python",
   "name": "python3"
  },
  "language_info": {
   "codemirror_mode": {
    "name": "ipython",
    "version": 3
   },
   "file_extension": ".py",
   "mimetype": "text/x-python",
   "name": "python",
   "nbconvert_exporter": "python",
   "pygments_lexer": "ipython3",
   "version": "3.11.4"
  }
 },
 "nbformat": 4,
 "nbformat_minor": 5
}
